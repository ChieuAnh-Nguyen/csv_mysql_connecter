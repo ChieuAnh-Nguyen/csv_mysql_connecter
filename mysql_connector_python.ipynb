{
 "cells": [
  {
   "cell_type": "code",
   "execution_count": 1,
   "id": "789392b5",
   "metadata": {},
   "outputs": [],
   "source": [
    "import mysql.connector\n",
    "import credentials as cred"
   ]
  },
  {
   "cell_type": "code",
   "execution_count": 2,
   "id": "d5919117",
   "metadata": {},
   "outputs": [],
   "source": [
    "db = mysql.connector.connect(\n",
    "    host = cred.host,\n",
    "    user = cred.user,\n",
    "    password = cred.password,\n",
    "    database = cred.database)"
   ]
  },
  {
   "cell_type": "code",
   "execution_count": 3,
   "id": "89d521d1",
   "metadata": {},
   "outputs": [],
   "source": [
    "mycursor = db.cursor(buffered=True)"
   ]
  },
  {
   "cell_type": "code",
   "execution_count": 154,
   "id": "6005634e",
   "metadata": {},
   "outputs": [],
   "source": [
    "# Creating Person table \n",
    "mycursor.execute('CREATE TABLE IF NOT EXISTS Person (name VARCHAR(50), age smallint UNSIGNED, PersonID int PRIMARY KEY AUTO_INCREMENT)')        \n",
    "mycursor.execute('INSERT INTO Person (name,age) VALUES (%s,%s)',('Tree',21))"
   ]
  },
  {
   "cell_type": "code",
   "execution_count": 272,
   "id": "3c30732e",
   "metadata": {},
   "outputs": [],
   "source": [
    "# Recreating Poop table\n",
    "\n",
    "mycursor.execute(\"DROP TABLE Poop\")\n",
    "mycursor.execute(\"CREATE TABLE Poop(poopid int PRIMARY KEY AUTO_INCREMENT,crap VARCHAR(50))\")"
   ]
  },
  {
   "cell_type": "code",
   "execution_count": 276,
   "id": "813928ce",
   "metadata": {},
   "outputs": [
    {
     "name": "stdout",
     "output_type": "stream",
     "text": [
      "(1, 'Me')\n",
      "(2, 'Me')\n",
      "(3, 'Me')\n",
      "(4, 'Me')\n",
      "4\n"
     ]
    }
   ],
   "source": [
    "new_crap = [(\"Me\")] # New \n",
    "\n",
    "Q1 = \"INSERT INTO Poop (crap) VALUES (%s)\"\n",
    "mycursor.execute(Q1,new_crap)\n",
    "db.commit()\n",
    "\n",
    "mycursor.execute(\"SELECT * FROM Poop\")\n",
    "for each in mycursor:\n",
    "    print(each)\n",
    "test_lastrowid = mycursor.lastrowid\n",
    "print(test_lastrowid)"
   ]
  },
  {
   "cell_type": "code",
   "execution_count": 359,
   "id": "6c34f33b",
   "metadata": {},
   "outputs": [],
   "source": [
    "# Users and scores list\n",
    "users = [(\"Chewy\",\"Chewypass\"),\n",
    "        (\"Twee\",\"tweepass\"),\n",
    "        (\"Dug\",\"Dugpass\")]\n",
    "scores = [(10,10),\n",
    "          (9,9),\n",
    "          (8,8)]"
   ]
  },
  {
   "cell_type": "code",
   "execution_count": 360,
   "id": "3d8a0eb7",
   "metadata": {},
   "outputs": [],
   "source": [
    "# Creating user, score tables\n",
    "mycursor.execute(\"DROP TABLE Scores\")\n",
    "mycursor.execute(\"DROP TABLE Users\")\n",
    "Q1 = \"CREATE TABLE IF NOT EXISTS Users(id int PRIMARY KEY AUTO_INCREMENT,name VARCHAR(50),passwd VARCHAR(50))\"\n",
    "Q2 = \"CREATE TABLE IF NOT EXISTS Scores(userId int PRIMARY KEY, FOREIGN KEY(userId) REFERENCES Users(id))\"\n",
    "\n",
    "mycursor.execute(Q1)\n",
    "mycursor.execute(Q2)\n",
    "\n",
    "# forgot to add game1 and game 2 to scores table\n",
    "insert_q = \"ALTER TABLE Scores ADD (game1 int DEFAULT 0, game2 int DEFAULT 0)\"\n",
    "mycursor.execute(insert_q)"
   ]
  },
  {
   "cell_type": "code",
   "execution_count": 362,
   "id": "296e6e88",
   "metadata": {},
   "outputs": [
    {
     "name": "stdout",
     "output_type": "stream",
     "text": [
      "SCORE USER TABLE\n",
      "(1, 'Chewy', 'Chewypass')\n",
      "(2, 'Twee', 'tweepass')\n",
      "(3, 'Dug', 'Dugpass')\n",
      "(4, 'Chewy', 'Chewypass')\n",
      "(5, 'Twee', 'tweepass')\n",
      "(6, 'Dug', 'Dugpass')\n",
      "SCORE TABLE\n",
      "(1, 10, 10)\n",
      "(2, 9, 9)\n",
      "(3, 8, 8)\n",
      "(4, 10, 10)\n",
      "(5, 9, 9)\n",
      "(6, 8, 8)\n"
     ]
    }
   ],
   "source": [
    "Q1 = \"INSERT INTO Users (name,passwd) VALUES(%s,%s)\"\n",
    "Q2 = \"INSERT INTO Scores (userId,game1,game2) VALUES(%s,%s,%s)\"\n",
    "# Enter the users and scores in tables 1 by 1 making sure that the userid's match\n",
    "for x,user in enumerate(users):\n",
    "    mycursor.execute(Q1,user)\n",
    "    lastid = mycursor.lastrowid\n",
    "    mycursor.execute(Q2,(lastid,) + scores[x])\n",
    "db.commit()\n",
    "\n",
    "print(\"SCORE USER TABLE\")\n",
    "mycursor.execute(\"SELECT * FROM Users\")\n",
    "for each in mycursor:\n",
    "    print(each)\n",
    "    \n",
    "print(\"SCORE TABLE\")\n",
    "mycursor.execute(\"SELECT * FROM Scores\")\n",
    "for each in mycursor:\n",
    "    print(each)"
   ]
  },
  {
   "cell_type": "code",
   "execution_count": null,
   "id": "d3a8e40b",
   "metadata": {},
   "outputs": [],
   "source": [
    "# Testing new change"
   ]
  },
  {
   "cell_type": "code",
   "execution_count": null,
   "id": "449b7966",
   "metadata": {},
   "outputs": [],
   "source": []
  },
  {
   "cell_type": "code",
   "execution_count": null,
   "id": "abe54165",
   "metadata": {},
   "outputs": [],
   "source": []
  }
 ],
 "metadata": {
  "interpreter": {
   "hash": "aee8b7b246df8f9039afb4144a1f6fd8d2ca17a180786b69acc140d282b71a49"
  },
  "kernelspec": {
   "display_name": "Python 3.8.5 64-bit",
   "name": "python3"
  },
  "language_info": {
   "codemirror_mode": {
    "name": "ipython",
    "version": 3
   },
   "file_extension": ".py",
   "mimetype": "text/x-python",
   "name": "python",
   "nbconvert_exporter": "python",
   "pygments_lexer": "ipython3",
   "version": "3.8.5"
  }
 },
 "nbformat": 4,
 "nbformat_minor": 5
}
